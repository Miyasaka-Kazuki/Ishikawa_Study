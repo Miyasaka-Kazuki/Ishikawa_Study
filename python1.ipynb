{
 "cells": [
  {
   "cell_type": "code",
   "execution_count": 1,
   "metadata": {},
   "outputs": [],
   "source": [
    "#型の宣言がいらない，Pythonのいいところ"
   ]
  },
  {
   "cell_type": "code",
   "execution_count": 2,
   "metadata": {
    "collapsed": true
   },
   "outputs": [],
   "source": [
    "#数字のお話"
   ]
  },
  {
   "cell_type": "code",
   "execution_count": 1,
   "metadata": {},
   "outputs": [
    {
     "name": "stdout",
     "output_type": "stream",
     "text": [
      "5\n",
      "1.234\n",
      "(1+2j)\n"
     ]
    }
   ],
   "source": [
    "#int型の整数を表示する\n",
    "a = 5\n",
    "\n",
    "#表示\n",
    "print(a)\n",
    "\n",
    "#float型の浮動小数点数を表示する\n",
    "b = 1.234\n",
    "print(b)\n",
    "\n",
    "#complex型の複素数を表示する\n",
    "c = 1 + 2j\n",
    "print(c)\n"
   ]
  },
  {
   "cell_type": "code",
   "execution_count": 2,
   "metadata": {},
   "outputs": [
    {
     "name": "stdout",
     "output_type": "stream",
     "text": [
      "6.234\n",
      "3.766\n",
      "6.17\n",
      "4.051863857374392\n"
     ]
    }
   ],
   "source": [
    "#四則演算をしよう\n",
    "#加算\n",
    "s = a + b\n",
    "print(s)\n",
    "\n",
    "#減算\n",
    "t = a - b\n",
    "print(t)\n",
    "\n",
    "\n",
    "#乗算\n",
    "u = a * b\n",
    "print(u)\n",
    "\n",
    "\n",
    "#割算\n",
    "v = a / b\n",
    "print(v)\n",
    "\n",
    "\n",
    "#型が違うものでも加減算できるよ！便利"
   ]
  },
  {
   "cell_type": "code",
   "execution_count": 3,
   "metadata": {},
   "outputs": [
    {
     "name": "stdout",
     "output_type": "stream",
     "text": [
      "1\n",
      "1000\n"
     ]
    }
   ],
   "source": [
    "#色々な計算をしよう\n",
    "a = 10\n",
    "b = 3\n",
    "\n",
    "\n",
    "#割り算の余りを計算する　a/bの余りを計算する\n",
    "x = a % b\n",
    "print(x)\n",
    "\n",
    "#乗算をする aのb乗を計算する\n",
    "y = a**b\n",
    "print(y)"
   ]
  },
  {
   "cell_type": "code",
   "execution_count": 6,
   "metadata": {
    "collapsed": true
   },
   "outputs": [],
   "source": [
    "#文字列のお話"
   ]
  },
  {
   "cell_type": "code",
   "execution_count": 8,
   "metadata": {},
   "outputs": [
    {
     "name": "stdout",
     "output_type": "stream",
     "text": [
      "cat\n",
      "catdog\n",
      "catcatcat\n",
      "kyou\n",
      "kango\n",
      "-----------\n",
      "kyou\tkango\n",
      "a\n"
     ]
    }
   ],
   "source": [
    "#文字列を定義\n",
    "a = 'cat'\n",
    "print(a)\n",
    "\n",
    "#'cat'でもできるはず\n",
    "\n",
    "#文字列の加算\n",
    "b = a + '' + \"dog\"\n",
    "print(b)\n",
    "\n",
    "\n",
    "#文字列の乗算\n",
    "c = a * 3\n",
    "print(c)\n",
    "\n",
    "#\\nと\\t\n",
    "print(\"kyou\\nkango\")\n",
    "print(\"-----------\")\n",
    "print(\"kyou\\tkango\")\n",
    "\n",
    "\n",
    "\n",
    "#文字列と位置\n",
    "s = \"abcdef\"\n",
    "print(s[0])"
   ]
  },
  {
   "cell_type": "code",
   "execution_count": 13,
   "metadata": {},
   "outputs": [
    {
     "name": "stdout",
     "output_type": "stream",
     "text": [
      "[1, 3, 5, 7, 9]\n",
      "1\n",
      "9\n",
      "['kana', 1, 'shin', (2+4j)]\n",
      "[1, 3, 5, 7, 9, 'kana', 1, 'shin', (2+4j)]\n",
      "[1, 3, 5, 7, 9, 'kana', 1, 'shin', (2+4j), 1, 3, 5, 7, 9, 'kana', 1, 'shin', (2+4j), 1, 3, 5, 7, 9, 'kana', 1, 'shin', (2+4j)]\n"
     ]
    }
   ],
   "source": [
    "#リストのお話\n",
    "\n",
    "\n",
    "#リストとはC言語でいう配列\n",
    "#データを一列に並べたもの\n",
    "#[]で表す\n",
    "list1 = [1, 3, 5, 7, 9]\n",
    "print(list1)\n",
    "\n",
    "#この時1,3,5,7,9を「要素」っていう．\n",
    "\n",
    "#リストのはじめの添え字は0\n",
    "print(list1[0])\n",
    "\n",
    "\n",
    "#逆から数える\n",
    "print(list1[-1])\n",
    "\n",
    "#何を突っ込んでも怒られない，Python\n",
    "list2 = ['kana', 1, 'shin', 2 + 4j]\n",
    "print(list2)\n",
    "\n",
    "#演算子も使える\n",
    "list3 = list1 + list2\n",
    "list4 = list3 * 3\n",
    "\n",
    "print(list3)\n",
    "print(list4)\n",
    "\n"
   ]
  },
  {
   "cell_type": "code",
   "execution_count": 17,
   "metadata": {},
   "outputs": [
    {
     "name": "stdout",
     "output_type": "stream",
     "text": [
      "[[1, 2, 3], [4, 5, 6], [7, 8, 9]]\n",
      "[1, 2, 3]\n",
      "2\n",
      "6\n"
     ]
    }
   ],
   "source": [
    "#多次元配列もできるよ\n",
    "list5 = [[1, 2, 3], [4, 5, 6], [7, 8, 9]]\n",
    "print(list5)\n",
    "\n",
    "#要素がリストになってるパターンです\n",
    "\n",
    "\n",
    "#list3の０番目の要素\n",
    "print(list5[0])\n",
    "\n",
    "#list3の０番目の要素の１番目の要素\n",
    "print(list5[0][1])\n",
    "\n",
    "\n",
    "#じゃあ6は？\n",
    "print(list5[1][2])"
   ]
  },
  {
   "cell_type": "code",
   "execution_count": 23,
   "metadata": {},
   "outputs": [
    {
     "name": "stdout",
     "output_type": "stream",
     "text": [
      "(1, 3, 5, 7, 9)\n",
      "[1, 3, 100, 7, 9]\n"
     ]
    }
   ],
   "source": [
    "#タプルの話\n",
    "\n",
    "#動きはリストと一緒\n",
    "#違いは「要素を変更することができない」という点\n",
    "#（）で表す\n",
    "list1 = [1, 3, 5, 7, 9]\n",
    "tuple1 = (1, 3, 5, 7, 9)\n",
    "\n",
    "print(tuple1)\n",
    "\n",
    "\n",
    "#リストは変更可能\n",
    "list1[2] = 100\n",
    "print(list1)\n",
    "#タプルは変更不可能\n",
    "#tuple1[2] = 100\n",
    "#print(tuple1)"
   ]
  },
  {
   "cell_type": "code",
   "execution_count": 11,
   "metadata": {
    "collapsed": true
   },
   "outputs": [],
   "source": [
    "#リストとタプルは他にもできることがあるからこれ以上の操作はお気楽Pythonを見てみてね"
   ]
  },
  {
   "cell_type": "code",
   "execution_count": 35,
   "metadata": {},
   "outputs": [
    {
     "name": "stdout",
     "output_type": "stream",
     "text": [
      "[1, 2]\n",
      "[3, 4, 5, 6]\n",
      "[2, 3, 4]\n",
      "[6, 5, 4, 3, 2]\n",
      "7\n",
      "1\n"
     ]
    }
   ],
   "source": [
    "#リストのスライス操作\n",
    "s = [0, 1, 2, 3, 4, 5, 6]\n",
    "\n",
    "#最初から3番目まで\n",
    "print(s[1:3])\n",
    "\n",
    "#3番目から最後まで\n",
    "print(s[3:])\n",
    "\n",
    "#2番目から5番目まで インデックス２から５番目の要素まで\n",
    "print(s[2:5])\n",
    "print(s[:1:-1])\n",
    "#リストの長さを表示する\n",
    "print(len(s))\n",
    "\n",
    "#要素が存在する位置を返す\n",
    "print(s.index(1))"
   ]
  },
  {
   "cell_type": "code",
   "execution_count": 47,
   "metadata": {},
   "outputs": [
    {
     "name": "stdout",
     "output_type": "stream",
     "text": [
      "[0, 1, 2, 3, 4, 5, 6, 'fish']\n",
      "[0, 1, 2, 3, 'bird', 4, 5, 6, 'fish']\n",
      "[0, 1, 2, 3, 'bird', 4, 5, 6]\n",
      "[0, 1, 2, 3, 4, 5, 6]\n",
      "[0, 1, 2, 3, 5, 6]\n"
     ]
    }
   ],
   "source": [
    "#リストに変更を加える\n",
    "s = [0, 1, 2, 3, 4, 5, 6]\n",
    "\n",
    "#要素をリストの最後に追加する\n",
    "s.append(\"fish\")\n",
    "print(s)\n",
    "\n",
    "#インデックス（要素番号）４番目に要素を追加する\n",
    "s.insert(4, \"bird\")\n",
    "print(s)\n",
    "\n",
    "#最後の要素をリストから削除する\n",
    "s.pop()\n",
    "print(s)\n",
    "\n",
    "#指定した要素を削除する\n",
    "s.remove(\"bird\")\n",
    "print(s)\n",
    "\n",
    "#4番目の要素を削除する\n",
    "del s[4]\n",
    "print(s)\n"
   ]
  },
  {
   "cell_type": "code",
   "execution_count": 17,
   "metadata": {},
   "outputs": [],
   "source": [
    "#スライスで代入する\n"
   ]
  },
  {
   "cell_type": "code",
   "execution_count": 50,
   "metadata": {},
   "outputs": [
    {
     "name": "stdout",
     "output_type": "stream",
     "text": [
      "{'foo': 10, 'bar': 1.22}\n"
     ]
    },
    {
     "data": {
      "text/plain": [
       "{'bar': 1.22, 'baz': 11, 'foo': 10}"
      ]
     },
     "execution_count": 50,
     "metadata": {},
     "output_type": "execute_result"
    }
   ],
   "source": [
    "#ディクショナリ型\n",
    "#連動配列\n",
    "#１つのキーにに対して１つの要素が割り当てられる\n",
    "d = {\"foo\": 10, 'bar': 1.22 }\n",
    "print(d)\n",
    "d[\"baz\"] = 11\n",
    "d"
   ]
  },
  {
   "cell_type": "code",
   "execution_count": 19,
   "metadata": {},
   "outputs": [],
   "source": [
    "#ディクショナリ型に対する操作\n",
    "\n",
    "#Q.d1にキーが'abc'，要素が40のものを追加して表示する\n",
    "\n",
    "\n",
    "#辞書はリストと違って順番がばらける\n",
    "#要素は同一でも構わないけど，キーは同一のものは使えない\n",
    "\n",
    "\n",
    "#要素数を返す\n",
    "\n",
    "#削除系の動作\n"
   ]
  },
  {
   "cell_type": "code",
   "execution_count": null,
   "metadata": {},
   "outputs": [],
   "source": [
    "#setの話\n",
    "#データの集合\n",
    "#リストに似てるが要素に順番は関係なく，要素の重複を許さない\n",
    "\n",
    "\n",
    "#残りの動きは各自みてください\n",
    "\n",
    "sorted(set(a), key=a.index)"
   ]
  },
  {
   "cell_type": "code",
   "execution_count": 7,
   "metadata": {},
   "outputs": [],
   "source": [
    "#演算子\n",
    "\n",
    "#in と　not in \n"
   ]
  },
  {
   "cell_type": "code",
   "execution_count": 6,
   "metadata": {},
   "outputs": [],
   "source": [
    "#if文\n",
    " \n",
    "#example\n"
   ]
  },
  {
   "cell_type": "code",
   "execution_count": 53,
   "metadata": {},
   "outputs": [
    {
     "name": "stdout",
     "output_type": "stream",
     "text": [
      "500500\n"
     ]
    }
   ],
   "source": [
    "#繰り返し文\n",
    "\n",
    "    \n",
    "#for文\n",
    "\n",
    "\n",
    "#1から1000までの合計値を出すプログラムを作成してください\n",
    "sum = 0;\n",
    "for i in range(1000):\n",
    "    sum += i + 1\n",
    "print(sum)"
   ]
  },
  {
   "cell_type": "code",
   "execution_count": 4,
   "metadata": {},
   "outputs": [],
   "source": [
    "#リストの内包表現\n",
    "#これが書ければ早い，かっこいい\n",
    "#Python独特の書き方\n",
    "\n"
   ]
  },
  {
   "cell_type": "code",
   "execution_count": 6,
   "metadata": {
    "scrolled": true
   },
   "outputs": [
    {
     "name": "stdout",
     "output_type": "stream",
     "text": [
      "1\n",
      "2\n",
      "Fizz\n",
      "4\n",
      "Buzz\n",
      "Fizz\n",
      "7\n",
      "8\n",
      "Fizz\n",
      "Buzz\n",
      "11\n",
      "Fizz\n",
      "13\n",
      "14\n",
      "FizzBuzz\n",
      "16\n",
      "17\n",
      "Fizz\n",
      "19\n",
      "Buzz\n",
      "Fizz\n",
      "22\n",
      "23\n",
      "Fizz\n",
      "Buzz\n",
      "26\n",
      "Fizz\n",
      "28\n",
      "29\n",
      "FizzBuzz\n",
      "31\n",
      "32\n",
      "Fizz\n",
      "34\n",
      "Buzz\n",
      "Fizz\n",
      "37\n",
      "38\n",
      "Fizz\n",
      "Buzz\n",
      "41\n",
      "Fizz\n",
      "43\n",
      "44\n",
      "FizzBuzz\n",
      "46\n",
      "47\n",
      "Fizz\n",
      "49\n",
      "Buzz\n"
     ]
    }
   ],
   "source": [
    "#FizzBuzz問題\n",
    "#1~50までの数字を表示する\n",
    "#ただし３で割り切れる数をFizz\n",
    "#５で割り切れる数をBuzz\n",
    "#３と５の両方で割り切れる数をFizzBuzzでそれぞれ表示する\n",
    "for i in range(50):\n",
    "    if (i+1) % 3 == 0 and (i+1) % 5 == 0 :\n",
    "        print(\"FizzBuzz\")\n",
    "        continue    \n",
    "    elif (i+1) % 3 == 0:\n",
    "        print(\"Fizz\")\n",
    "        continue\n",
    "    elif (i+1) % 5 == 0:\n",
    "        print(\"Buzz\")\n",
    "        continue        \n",
    "    else:\n",
    "        print(i+1)\n",
    "        continue\n"
   ]
  },
  {
   "cell_type": "code",
   "execution_count": 15,
   "metadata": {},
   "outputs": [
    {
     "data": {
      "text/plain": [
       "[1, 2, 3, 5, 9]"
      ]
     },
     "execution_count": 15,
     "metadata": {},
     "output_type": "execute_result"
    }
   ],
   "source": [
    "#バブルソート問題\n",
    "#与えられたリストを小さい順に並び替えてください\n",
    "list = [3, 5, 2, 9, 1]\n",
    "\n",
    "for i in range(len(list)-1):\n",
    "    for j in range(len(list)-1-i):\n",
    "        if list[j] > list[j+1]:\n",
    "            temp = list[j]\n",
    "            list[j] = list[j+1]\n",
    "            list[j+1] = temp\n",
    "            \n",
    "list\n",
    "\n"
   ]
  },
  {
   "cell_type": "code",
   "execution_count": 13,
   "metadata": {},
   "outputs": [
    {
     "name": "stdout",
     "output_type": "stream",
     "text": [
      "02 : True\n",
      "03 : True\n",
      "04 : False\n",
      "05 : True\n",
      "06 : False\n",
      "07 : True\n",
      "08 : False\n",
      "09 : False\n",
      "10 : False\n",
      "11 : True\n",
      "12 : False\n",
      "13 : True\n",
      "14 : False\n",
      "15 : False\n",
      "16 : False\n",
      "17 : True\n",
      "18 : False\n",
      "19 : True\n",
      "20 : False\n",
      "21 : False\n",
      "22 : False\n",
      "23 : True\n",
      "24 : False\n",
      "25 : False\n",
      "26 : False\n",
      "27 : False\n",
      "28 : False\n",
      "29 : True\n",
      "30 : False\n",
      "31 : True\n",
      "32 : False\n",
      "33 : False\n",
      "34 : False\n",
      "35 : False\n",
      "36 : False\n",
      "37 : True\n",
      "38 : False\n",
      "39 : False\n",
      "40 : False\n",
      "41 : True\n",
      "42 : False\n",
      "43 : True\n",
      "44 : False\n",
      "45 : False\n",
      "46 : False\n",
      "47 : True\n",
      "48 : False\n",
      "49 : False\n",
      "50 : False\n",
      "51 : False\n",
      "52 : False\n",
      "53 : True\n",
      "54 : False\n",
      "55 : False\n",
      "56 : False\n",
      "57 : False\n",
      "58 : False\n",
      "59 : True\n",
      "60 : False\n",
      "61 : True\n",
      "62 : False\n",
      "63 : False\n",
      "64 : False\n",
      "65 : False\n",
      "66 : False\n",
      "67 : True\n",
      "68 : False\n",
      "69 : False\n",
      "70 : False\n",
      "71 : True\n",
      "72 : False\n",
      "73 : True\n",
      "74 : False\n",
      "75 : False\n",
      "76 : False\n",
      "77 : False\n",
      "78 : False\n",
      "79 : True\n",
      "80 : False\n",
      "81 : False\n",
      "82 : False\n",
      "83 : True\n",
      "84 : False\n",
      "85 : False\n",
      "86 : False\n",
      "87 : False\n",
      "88 : False\n",
      "89 : True\n",
      "90 : False\n",
      "91 : False\n",
      "92 : False\n",
      "93 : False\n",
      "94 : False\n",
      "95 : False\n",
      "96 : False\n",
      "97 : True\n",
      "98 : False\n",
      "99 : False\n"
     ]
    }
   ],
   "source": [
    "for i in range(2, 100):\n",
    "    soinsu = True\n",
    "    for j in range(2, i):\n",
    "        if i % j == 0:\n",
    "            soinsu = False\n",
    "            break\n",
    "    print('{0:02d} : {1}'.format(i, soinsu))"
   ]
  },
  {
   "cell_type": "code",
   "execution_count": 48,
   "metadata": {},
   "outputs": [],
   "source": [
    "def inpt(x,y,z):\n",
    "    return \"{}の時{}は{}\".format(x,y,z)"
   ]
  },
  {
   "cell_type": "code",
   "execution_count": 49,
   "metadata": {},
   "outputs": [
    {
     "data": {
      "text/plain": [
       "'12の時気温は22.3'"
      ]
     },
     "execution_count": 49,
     "metadata": {},
     "output_type": "execute_result"
    }
   ],
   "source": [
    "inpt(12,\"気温\",22.3)"
   ]
  },
  {
   "cell_type": "code",
   "execution_count": null,
   "metadata": {
    "collapsed": true
   },
   "outputs": [],
   "source": []
  }
 ],
 "metadata": {
  "kernelspec": {
   "display_name": "Python 3",
   "language": "python",
   "name": "python3"
  },
  "language_info": {
   "codemirror_mode": {
    "name": "ipython",
    "version": 3
   },
   "file_extension": ".py",
   "mimetype": "text/x-python",
   "name": "python",
   "nbconvert_exporter": "python",
   "pygments_lexer": "ipython3",
   "version": "3.6.4"
  }
 },
 "nbformat": 4,
 "nbformat_minor": 1
}
